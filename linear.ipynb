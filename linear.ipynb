{
 "cells": [
  {
   "cell_type": "markdown",
   "metadata": {},
   "source": [
    "libraries"
   ]
  },
  {
   "cell_type": "code",
   "execution_count": 8,
   "metadata": {},
   "outputs": [],
   "source": [
    "import matplotlib.pyplot as plt\n",
    "import numpy as np\n",
    "import pandas as pd\n"
   ]
  },
  {
   "cell_type": "code",
   "execution_count": 9,
   "metadata": {},
   "outputs": [],
   "source": [
    "dataset = pd.read_csv(\"D:\\\\ML\\\\Task_1A\\\\task_1a_dataset.csv\")\n"
   ]
  },
  {
   "cell_type": "markdown",
   "metadata": {},
   "source": [
    "Making the str data type to the left and int datatype to the right"
   ]
  },
  {
   "cell_type": "code",
   "execution_count": 10,
   "metadata": {},
   "outputs": [],
   "source": [
    "str_columns = dataset.select_dtypes(include='object')\n",
    "int_columns = dataset.select_dtypes(include='int64')\n",
    "dataset = pd.concat([str_columns, int_columns], axis=1)"
   ]
  },
  {
   "cell_type": "code",
   "execution_count": 11,
   "metadata": {},
   "outputs": [
    {
     "name": "stdout",
     "output_type": "stream",
     "text": [
      "      Education       City  Gender EverBenched  JoiningYear  PaymentTier  Age  \\\n",
      "0     Bachelors  Bangalore    Male          No         2012            3   37   \n",
      "1       Masters  New Delhi    Male          No         2017            2   28   \n",
      "2     Bachelors  New Delhi    Male          No         2017            2   36   \n",
      "3     Bachelors  Bangalore    Male         Yes         2015            3   27   \n",
      "4     Bachelors  Bangalore    Male          No         2017            3   29   \n",
      "...         ...        ...     ...         ...          ...          ...  ...   \n",
      "4628  Bachelors  Bangalore  Female          No         2013            3   26   \n",
      "4629    Masters       Pune    Male          No         2013            2   37   \n",
      "4630    Masters  New Delhi    Male          No         2018            3   27   \n",
      "4631  Bachelors  Bangalore    Male         Yes         2012            3   30   \n",
      "4632  Bachelors  Bangalore    Male         Yes         2015            3   33   \n",
      "\n",
      "      ExperienceInCurrentDomain  LeaveOrNot  \n",
      "0                             0           0  \n",
      "1                             4           0  \n",
      "2                             3           0  \n",
      "3                             5           0  \n",
      "4                             4           0  \n",
      "...                         ...         ...  \n",
      "4628                          4           0  \n",
      "4629                          2           1  \n",
      "4630                          5           1  \n",
      "4631                          2           0  \n",
      "4632                          4           0  \n",
      "\n",
      "[4633 rows x 9 columns]\n"
     ]
    }
   ],
   "source": [
    "print(dataset)"
   ]
  },
  {
   "cell_type": "code",
   "execution_count": 12,
   "metadata": {},
   "outputs": [],
   "source": [
    "X = dataset.iloc[:,:-1].values\n",
    "y = dataset.iloc[:,-1].values"
   ]
  },
  {
   "cell_type": "code",
   "execution_count": 13,
   "metadata": {},
   "outputs": [
    {
     "name": "stdout",
     "output_type": "stream",
     "text": [
      "[['Bachelors' 'Bangalore' 'Male' ... 3 37 0]\n",
      " ['Masters' 'New Delhi' 'Male' ... 2 28 4]\n",
      " ['Bachelors' 'New Delhi' 'Male' ... 2 36 3]\n",
      " ...\n",
      " ['Masters' 'New Delhi' 'Male' ... 3 27 5]\n",
      " ['Bachelors' 'Bangalore' 'Male' ... 3 30 2]\n",
      " ['Bachelors' 'Bangalore' 'Male' ... 3 33 4]]\n"
     ]
    }
   ],
   "source": [
    "print(X)"
   ]
  },
  {
   "cell_type": "markdown",
   "metadata": {},
   "source": [
    "Taking care of missing data(scikit learn --> has many data handling modules)\n",
    "\n",
    "SimpleImputer is a module that handles missing datas focused on numbering values"
   ]
  },
  {
   "cell_type": "code",
   "execution_count": 14,
   "metadata": {},
   "outputs": [],
   "source": [
    "from sklearn.impute import SimpleImputer\n",
    "\n",
    "imputer=SimpleImputer(missing_values=np.nan,strategy=\"mean\")\n",
    "imputer.fit(X[:,4:])\n",
    "X[:,4:]=imputer.transform(X[:,4:])"
   ]
  },
  {
   "cell_type": "code",
   "execution_count": 15,
   "metadata": {},
   "outputs": [
    {
     "name": "stdout",
     "output_type": "stream",
     "text": [
      "[['Bachelors' 'Bangalore' 'Male' ... 3.0 37.0 0.0]\n",
      " ['Masters' 'New Delhi' 'Male' ... 2.0 28.0 4.0]\n",
      " ['Bachelors' 'New Delhi' 'Male' ... 2.0 36.0 3.0]\n",
      " ...\n",
      " ['Masters' 'New Delhi' 'Male' ... 3.0 27.0 5.0]\n",
      " ['Bachelors' 'Bangalore' 'Male' ... 3.0 30.0 2.0]\n",
      " ['Bachelors' 'Bangalore' 'Male' ... 3.0 33.0 4.0]]\n"
     ]
    }
   ],
   "source": [
    "print(X)"
   ]
  },
  {
   "cell_type": "markdown",
   "metadata": {},
   "source": [
    "\n",
    "Catergorical Encoding\n",
    "\n",
    "Machine cannot recogonize strings, when it is of numbers it is easy to help out the machine. So when string or texts occurs changes those into catergories\n",
    "\n",
    "This OneHotEncoder helps in encoding the strings.\n",
    "\n",
    "In transformers : The \"encoder\" mention the action to do\n",
    "\n",
    "The OneHotEncoder is to mention the type of encode\n",
    "\n",
    "[0,1,2,3,] This is give as the indexes of the string features\n"
   ]
  },
  {
   "cell_type": "code",
   "execution_count": 16,
   "metadata": {},
   "outputs": [],
   "source": [
    "from sklearn.compose import ColumnTransformer\n",
    "from sklearn.preprocessing import OneHotEncoder\n",
    "\n",
    "ct=ColumnTransformer(transformers=[('encoder',OneHotEncoder(),[0,1,2,3])],remainder=\"passthrough\")\n",
    "X=np.array(ct.fit_transform(X))"
   ]
  },
  {
   "cell_type": "markdown",
   "metadata": {},
   "source": [
    "LabelEncoder it is a module from sklearn.preprocessing where you can do your target of strings into numbering"
   ]
  },
  {
   "cell_type": "code",
   "execution_count": 17,
   "metadata": {},
   "outputs": [],
   "source": [
    "from sklearn.preprocessing import LabelEncoder\n",
    "le = LabelEncoder()\n",
    "y = le.fit_transform(y)"
   ]
  },
  {
   "cell_type": "markdown",
   "metadata": {},
   "source": [
    "splitting of data\n",
    "\n",
    "random_state --> when splitting of data, the rows would be taken randomly by default. So assigning the random_state = 1 will choose the the rows on continuous selection."
   ]
  },
  {
   "cell_type": "code",
   "execution_count": 18,
   "metadata": {},
   "outputs": [],
   "source": [
    "from sklearn.model_selection import train_test_split\n",
    "\n",
    "X_train , X_test , y_train , y_test = train_test_split( X, y, test_size=0.2, random_state=1)\n"
   ]
  },
  {
   "cell_type": "markdown",
   "metadata": {},
   "source": [
    "By standardizing features using StandardScaler, you make sure that each feature contributes equally to the distance computations and model fitting process in machine learning algorithms. It's particularly important for algorithms that are sensitive to the scale of features, such as support vector machines, k-nearest neighbors, and logistic regression."
   ]
  },
  {
   "cell_type": "markdown",
   "metadata": {},
   "source": [
    "standardization --> When performing standardization the values would be from (-3 to 3) inclusive. This would be suited in most of the cases\n",
    "                                (X - mean(x))/standard deviation \n",
    "\n",
    "normalization --> values would be range from 0 to 1 inclusive. Gives similar scale. This can be performed when values can be suited over the range (0 to 1)\n",
    "                                (X - min(X))/(max(X) - min(X))\n",
    "There is no need to apply stanardization for all the columns means it doesn't need to apply over integers .\n",
    "\n",
    "fit --> gives mean and SD\n",
    "transform --> it transforms the values with the mentined formula"
   ]
  },
  {
   "cell_type": "code",
   "execution_count": 20,
   "metadata": {},
   "outputs": [
    {
     "name": "stdout",
     "output_type": "stream",
     "text": [
      "[[ 0.53762764 -0.47319147 -0.20751434 ...  0.53694774 -0.90847604\n",
      "   0.05263492]\n",
      " [ 0.53762764 -0.47319147 -0.20751434 ...  0.53694774 -0.49415015\n",
      "   1.33595739]\n",
      " [ 0.53762764 -0.47319147 -0.20751434 ... -1.24774133 -1.11563898\n",
      "  -0.58902632]\n",
      " ...\n",
      " [ 0.53762764 -0.47319147 -0.20751434 ...  0.53694774 -0.70131309\n",
      "   0.69429616]\n",
      " [ 0.53762764 -0.47319147 -0.20751434 ...  0.53694774 -0.90847604\n",
      "   0.05263492]\n",
      " [ 0.53762764 -0.47319147 -0.20751434 ... -1.24774133 -0.90847604\n",
      "   0.05263492]]\n"
     ]
    }
   ],
   "source": [
    "print(X_train)"
   ]
  },
  {
   "cell_type": "code",
   "execution_count": 19,
   "metadata": {},
   "outputs": [],
   "source": [
    "from sklearn.preprocessing import StandardScaler\n",
    "\n",
    "scaler =  StandardScaler()\n",
    "X_train = scaler.fit_transform(X_train)\n",
    "X_test = scaler.transform(X_test)"
   ]
  },
  {
   "cell_type": "code",
   "execution_count": 21,
   "metadata": {},
   "outputs": [
    {
     "name": "stdout",
     "output_type": "stream",
     "text": [
      "[[ 0.53762764 -0.47319147 -0.20751434 ... -3.0324304  -0.70131309\n",
      "   0.69429616]\n",
      " [-1.86002342  2.11330942 -0.20751434 ...  0.53694774 -0.90847604\n",
      "   0.05263492]\n",
      " [-1.86002342  2.11330942 -0.20751434 ...  0.53694774 -0.49415015\n",
      "   1.33595739]\n",
      " ...\n",
      " [ 0.53762764 -0.47319147 -0.20751434 ...  0.53694774  0.12733869\n",
      "   0.69429616]\n",
      " [ 0.53762764 -0.47319147 -0.20751434 ...  0.53694774 -1.52996487\n",
      "  -1.87234879]\n",
      " [ 0.53762764 -0.47319147 -0.20751434 ...  0.53694774 -0.2869872\n",
      "  -1.87234879]]\n"
     ]
    }
   ],
   "source": [
    "print(X_test)"
   ]
  }
 ],
 "metadata": {
  "kernelspec": {
   "display_name": "Python 3",
   "language": "python",
   "name": "python3"
  },
  "language_info": {
   "codemirror_mode": {
    "name": "ipython",
    "version": 3
   },
   "file_extension": ".py",
   "mimetype": "text/x-python",
   "name": "python",
   "nbconvert_exporter": "python",
   "pygments_lexer": "ipython3",
   "version": "3.11.0"
  }
 },
 "nbformat": 4,
 "nbformat_minor": 2
}
